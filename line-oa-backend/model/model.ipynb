{
 "cells": [
  {
   "cell_type": "code",
   "execution_count": 1,
   "id": "d8acfbf3-f076-494d-9b82-2438f6db94aa",
   "metadata": {},
   "outputs": [
    {
     "name": "stdout",
     "output_type": "stream",
     "text": [
      "Defaulting to user installation because normal site-packages is not writeable\n",
      "Collecting rapidfuzz\n",
      "  Downloading rapidfuzz-3.12.1-cp312-cp312-win_amd64.whl.metadata (11 kB)\n",
      "Downloading rapidfuzz-3.12.1-cp312-cp312-win_amd64.whl (1.6 MB)\n",
      "   ---------------------------------------- 0.0/1.6 MB ? eta -:--:--\n",
      "   -------------------------- ------------- 1.0/1.6 MB 6.3 MB/s eta 0:00:01\n",
      "   ---------------------------------------- 1.6/1.6 MB 6.2 MB/s eta 0:00:00\n",
      "Installing collected packages: rapidfuzz\n",
      "Successfully installed rapidfuzz-3.12.1\n",
      "Note: you may need to restart the kernel to use updated packages.\n"
     ]
    },
    {
     "name": "stderr",
     "output_type": "stream",
     "text": [
      "\n",
      "[notice] A new release of pip is available: 24.3.1 -> 25.0.1\n",
      "[notice] To update, run: C:\\Users\\user\\AppData\\Local\\Microsoft\\WindowsApps\\PythonSoftwareFoundation.Python.3.12_qbz5n2kfra8p0\\python.exe -m pip install --upgrade pip\n"
     ]
    }
   ],
   "source": [
    "pip install rapidfuzz"
   ]
  },
  {
   "cell_type": "code",
   "execution_count": 2,
   "id": "97f8678f-adc0-41e4-a4a5-684af45cb7ab",
   "metadata": {},
   "outputs": [
    {
     "name": "stdout",
     "output_type": "stream",
     "text": [
      "รายการคำสั่งซื้อ:\n",
      "- แซนวิชไส้ปูอัด 2 (ความแม่นยำ: 100.0%)\n",
      "- แซนวิชไส้ทูน่า 2 (ความแม่นยำ: 100.0%)\n",
      "- แซนวิชไส้ไก่ 1 (ความแม่นยำ: 90.0%)\n"
     ]
    }
   ],
   "source": [
    "import re\n",
    "from rapidfuzz import process\n",
    "\n",
    "\n",
    "menu_db = [\"แซนวิชไส้ไก่\", \"แซนวิชไส้ปูอัด\", \"แซนวิชไส้หมูหยอง\", \"แซนวิชไข่ต้ม\", \"แซนวิชไส้ทูน่า\"]\n",
    "\n",
    "\n",
    "text = \"แซนวิชไส้ปูอัด 2 แซนวิชไส้ทูน่า 2 ไม่ใส่ผัก แซนวิชไส้ไก่ 1\"\n",
    "\n",
    "\n",
    "def extract_orders_fuzzy(text, menu_db, threshold=80):\n",
    "    orders = []\n",
    "\n",
    "\n",
    "    pattern = r\"([ก-๙a-zA-Z\\s]+)\\s*(\\d+)\"\n",
    "    matches = re.findall(pattern, text)\n",
    "\n",
    "    for match in matches:\n",
    "        user_input = match[0].strip()\n",
    "        quantity = int(match[1])\n",
    "\n",
    "        best_match = process.extractOne(user_input, menu_db, score_cutoff=threshold)\n",
    "\n",
    "        if best_match:\n",
    "            matched_menu, score = best_match[0], best_match[1]\n",
    "            orders.append({\"menu\": matched_menu, \"quantity\": quantity, \"score\": score})\n",
    "\n",
    "    return orders\n",
    "\n",
    "\n",
    "orders = extract_orders_fuzzy(text, menu_db)\n",
    "\n",
    "\n",
    "print(\"รายการคำสั่งซื้อ:\")\n",
    "for order in orders:\n",
    "    print(f\"- {order['menu']} {order['quantity']} (ความแม่นยำ: {order['score']}%)\")"
   ]
  },
  {
   "cell_type": "code",
   "execution_count": null,
   "id": "77bca42d-cb26-4bff-a263-1d546847fd3a",
   "metadata": {},
   "outputs": [],
   "source": []
  }
 ],
 "metadata": {
  "kernelspec": {
   "display_name": "Python 3 (ipykernel)",
   "language": "python",
   "name": "python3"
  },
  "language_info": {
   "codemirror_mode": {
    "name": "ipython",
    "version": 3
   },
   "file_extension": ".py",
   "mimetype": "text/x-python",
   "name": "python",
   "nbconvert_exporter": "python",
   "pygments_lexer": "ipython3",
   "version": "3.12.9"
  }
 },
 "nbformat": 4,
 "nbformat_minor": 5
}
